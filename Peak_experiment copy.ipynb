{
 "cells": [
  {
   "cell_type": "code",
   "execution_count": 2,
   "metadata": {},
   "outputs": [],
   "source": [
    "import os\n",
    "import glob\n",
    "import math\n",
    "import numpy as np\n",
    "import pandas as pd\n",
    "import matplotlib.pyplot as plt\n",
    "from scipy.stats import norm\n",
    "from scipy import optimize\n",
    "from scipy.signal import find_peaks, peak_widths, savgol_filter, convolve, peak_prominences\n",
    "from scipy.fft import *\n",
    "# from scipy.fftpack import *\n",
    "import peakutils\n",
    "from peakutils.plot import plot as pplot"
   ]
  },
  {
   "cell_type": "code",
   "execution_count": 3,
   "metadata": {},
   "outputs": [],
   "source": [
    "folder ='Affinity Data/AAVA3/'\n",
    "CSVs = glob.glob(f'{folder}/*.csv')\n"
   ]
  },
  {
   "cell_type": "code",
   "execution_count": 5,
   "metadata": {},
   "outputs": [],
   "source": [
    "data = pd.read_csv(CSVs[13], delimiter='\\t', encoding='utf_16', skiprows=[0,1], low_memory=False)"
   ]
  },
  {
   "cell_type": "code",
   "execution_count": 20,
   "metadata": {},
   "outputs": [
    {
     "data": {
      "text/plain": [
       "'Affinity Data/AAVA3/AAVA3_AAV10 HEK lysate 002.csv'"
      ]
     },
     "execution_count": 20,
     "metadata": {},
     "output_type": "execute_result"
    }
   ],
   "source": [
    "CSVs[13]"
   ]
  },
  {
   "cell_type": "code",
   "execution_count": null,
   "metadata": {},
   "outputs": [],
   "source": [
    "['Elution pH',\n",
    "'Wash pH',\n",
    "'Equlibration pH',\n",
    "'Elution Conductivity',\n",
    "'Wash Conductivity',\n",
    "'Equilibration Conductivity']"
   ]
  },
  {
   "cell_type": "code",
   "execution_count": 7,
   "metadata": {},
   "outputs": [
    {
     "data": {
      "text/plain": [
       "Index(['ml', 'mAU', 'ml.1', 'mS/cm', 'ml.2', 'mAU.1', 'ml.3', 'pH', 'ml.4',\n",
       "       'Injection', 'ml.5', 'Logbook', 'ml.6', 'Fraction', 'ml.7', '%', 'ml.8',\n",
       "       'mAU.2', 'ml.9', 'MPa', 'ml.10', 'MPa.1', 'ml.11', 'MPa.2', 'ml.12',\n",
       "       'MPa.3', 'ml.13', 'MPa.4', 'ml.14', 'ml/min', 'ml.15', 'cm/h', 'ml.16',\n",
       "       'ml/min.1', 'ml.17', 'cm/h.1', 'ml.18', 'cm', 'ml.19', 'CV/h', 'ml.20',\n",
       "       'CV/h.1', 'ml.21', '%.1', 'ml.22', '°C', 'ml.23', '°C.1'],\n",
       "      dtype='object')"
      ]
     },
     "execution_count": 7,
     "metadata": {},
     "output_type": "execute_result"
    }
   ],
   "source": [
    "data.columns"
   ]
  },
  {
   "cell_type": "code",
   "execution_count": 30,
   "metadata": {},
   "outputs": [
    {
     "data": {
      "text/plain": [
       "0       -10.0\n",
       "1       -10.0\n",
       "2       -10.0\n",
       "3       -10.0\n",
       "4       -10.0\n",
       "         ... \n",
       "52545     NaN\n",
       "52546     NaN\n",
       "52547     NaN\n",
       "52548     NaN\n",
       "52549     NaN\n",
       "Name: ml.3, Length: 52550, dtype: float64"
      ]
     },
     "execution_count": 30,
     "metadata": {},
     "output_type": "execute_result"
    }
   ],
   "source": [
    "round(data['ml.3'])"
   ]
  },
  {
   "cell_type": "code",
   "execution_count": 8,
   "metadata": {},
   "outputs": [
    {
     "data": {
      "text/html": [
       "<div>\n",
       "<style scoped>\n",
       "    .dataframe tbody tr th:only-of-type {\n",
       "        vertical-align: middle;\n",
       "    }\n",
       "\n",
       "    .dataframe tbody tr th {\n",
       "        vertical-align: top;\n",
       "    }\n",
       "\n",
       "    .dataframe thead th {\n",
       "        text-align: right;\n",
       "    }\n",
       "</style>\n",
       "<table border=\"1\" class=\"dataframe\">\n",
       "  <thead>\n",
       "    <tr style=\"text-align: right;\">\n",
       "      <th></th>\n",
       "      <th>ml.3</th>\n",
       "      <th>pH</th>\n",
       "    </tr>\n",
       "  </thead>\n",
       "  <tbody>\n",
       "    <tr>\n",
       "      <th>0</th>\n",
       "      <td>-10.028101</td>\n",
       "      <td>0.000000</td>\n",
       "    </tr>\n",
       "    <tr>\n",
       "      <th>1</th>\n",
       "      <td>-10.022002</td>\n",
       "      <td>6.039771</td>\n",
       "    </tr>\n",
       "    <tr>\n",
       "      <th>2</th>\n",
       "      <td>-10.015903</td>\n",
       "      <td>6.058799</td>\n",
       "    </tr>\n",
       "    <tr>\n",
       "      <th>3</th>\n",
       "      <td>-10.009806</td>\n",
       "      <td>6.059083</td>\n",
       "    </tr>\n",
       "    <tr>\n",
       "      <th>4</th>\n",
       "      <td>-10.003707</td>\n",
       "      <td>6.058880</td>\n",
       "    </tr>\n",
       "    <tr>\n",
       "      <th>...</th>\n",
       "      <td>...</td>\n",
       "      <td>...</td>\n",
       "    </tr>\n",
       "    <tr>\n",
       "      <th>52545</th>\n",
       "      <td>NaN</td>\n",
       "      <td>NaN</td>\n",
       "    </tr>\n",
       "    <tr>\n",
       "      <th>52546</th>\n",
       "      <td>NaN</td>\n",
       "      <td>NaN</td>\n",
       "    </tr>\n",
       "    <tr>\n",
       "      <th>52547</th>\n",
       "      <td>NaN</td>\n",
       "      <td>NaN</td>\n",
       "    </tr>\n",
       "    <tr>\n",
       "      <th>52548</th>\n",
       "      <td>NaN</td>\n",
       "      <td>NaN</td>\n",
       "    </tr>\n",
       "    <tr>\n",
       "      <th>52549</th>\n",
       "      <td>NaN</td>\n",
       "      <td>NaN</td>\n",
       "    </tr>\n",
       "  </tbody>\n",
       "</table>\n",
       "<p>52550 rows × 2 columns</p>\n",
       "</div>"
      ],
      "text/plain": [
       "            ml.3        pH\n",
       "0     -10.028101  0.000000\n",
       "1     -10.022002  6.039771\n",
       "2     -10.015903  6.058799\n",
       "3     -10.009806  6.059083\n",
       "4     -10.003707  6.058880\n",
       "...          ...       ...\n",
       "52545        NaN       NaN\n",
       "52546        NaN       NaN\n",
       "52547        NaN       NaN\n",
       "52548        NaN       NaN\n",
       "52549        NaN       NaN\n",
       "\n",
       "[52550 rows x 2 columns]"
      ]
     },
     "execution_count": 8,
     "metadata": {},
     "output_type": "execute_result"
    }
   ],
   "source": [
    "data[['ml.3', 'pH']]\n"
   ]
  },
  {
   "cell_type": "code",
   "execution_count": 21,
   "metadata": {},
   "outputs": [
    {
     "data": {
      "text/plain": [
       "[<matplotlib.lines.Line2D at 0x7faaee600a00>]"
      ]
     },
     "execution_count": 21,
     "metadata": {},
     "output_type": "execute_result"
    },
    {
     "data": {
      "image/png": "[encoded data removed]",
      "text/plain": [
       "<Figure size 640x480 with 1 Axes>"
      ]
     },
     "metadata": {},
     "output_type": "display_data"
    }
   ],
   "source": [
    "plt.plot(data['ml.3'], data['pH'])"
   ]
  },
  {
   "cell_type": "code",
   "execution_count": null,
   "metadata": {},
   "outputs": [],
   "source": []
  },
  {
   "cell_type": "code",
   "execution_count": 54,
   "metadata": {},
   "outputs": [],
   "source": [
    "elution_ph_index = data['ml.3'][round(data['ml.3']) == round(data['ml.5'][4])].index[30]\n",
    "elution_cond_index = data['ml.1'][round(data['ml.1']) == round(data['ml.5'][4])].index[30]\n",
    "wash_ph_index = data['ml.3'][round(data['ml.3']) == round(data['ml.5'][3])].index[30]\n",
    "wash_cond_index = data['ml.1'][round(data['ml.1']) == round(data['ml.5'][3])].index[30]\n",
    "equilibration_ph_index = data['ml.3'][round(data['ml.3']) == round(data['ml.5'][1])].index[30]\n",
    "equilibration_cond_index = data['ml.1'][round(data['ml.1']) == round(data['ml.5'][1])].index[30]\n",
    "\n",
    "\n",
    "elution_ph = round(data['pH'][elution_ph_index], 2)\n",
    "elution_cond = round(data['mS/cm'][elution_cond_index], 2)\n",
    "\n",
    "wash_ph = round(data['pH'][wash_ph_index], 2)\n",
    "wash_cond = round(data['mS/cm'][wash_cond_index], 2)\n",
    "\n",
    "equilibration_ph = round(data['pH'][equilibration_ph_index], 2)\n",
    "equilibration_cond = round(data['pH'][equilibration_cond_index], 2)"
   ]
  },
  {
   "cell_type": "code",
   "execution_count": null,
   "metadata": {},
   "outputs": [],
   "source": [
    "Elution pH: 7.36, Elution Conductivity: 3.18\n",
    "Wash pH: 7.37, Wash Conductivity: 2.91\n",
    "Equilibration pH: 6.08, Equilibration Conductivity: 6.08\n",
    "\n",
    "\n",
    "Elution pH: 7.36, Elution Conductivity: 3.18\n",
    "Wash pH: 7.36, Wash Conductivity: 2.91\n",
    "Equilibration pH: 6.05, Equilibration Conductivity: 6.05\n",
    "\n",
    "Elution pH: 7.37, Elution Conductivity: 3.18\n",
    "Wash pH: 7.36, Wash Conductivity: 2.91\n",
    "Equilibration pH: 5.98, Equilibration Conductivity: 5.98"
   ]
  },
  {
   "cell_type": "code",
   "execution_count": 55,
   "metadata": {},
   "outputs": [
    {
     "name": "stdout",
     "output_type": "stream",
     "text": [
      "Elution pH: 7.36, Elution Conductivity: 3.18\n",
      "Wash pH: 7.37, Wash Conductivity: 2.91\n",
      "Equilibration pH: 6.08, Equilibration Conductivity: 6.08\n"
     ]
    }
   ],
   "source": [
    "print(f'Elution pH: {elution_ph}, Elution Conductivity: {elution_cond}')\n",
    "print(f'Wash pH: {wash_ph}, Wash Conductivity: {wash_cond}')\n",
    "print(f'Equilibration pH: {equilibration_ph}, Equilibration Conductivity: {equilibration_cond}')"
   ]
  },
  {
   "cell_type": "code",
   "execution_count": 46,
   "metadata": {},
   "outputs": [
    {
     "data": {
      "text/plain": [
       "3.182009"
      ]
     },
     "execution_count": 46,
     "metadata": {},
     "output_type": "execute_result"
    }
   ],
   "source": [
    "data['mS/cm'][25910]"
   ]
  },
  {
   "cell_type": "code",
   "execution_count": 47,
   "metadata": {},
   "outputs": [
    {
     "data": {
      "text/plain": [
       "3.18"
      ]
     },
     "execution_count": 47,
     "metadata": {},
     "output_type": "execute_result"
    }
   ],
   "source": [
    "round(data['mS/cm'][25910], 2)"
   ]
  },
  {
   "cell_type": "code",
   "execution_count": 44,
   "metadata": {},
   "outputs": [
    {
     "data": {
      "text/plain": [
       "25904"
      ]
     },
     "execution_count": 44,
     "metadata": {},
     "output_type": "execute_result"
    }
   ],
   "source": [
    "data['ml.1'][round(data['ml.1']) == round(data['ml.5'][4])].index[50]"
   ]
  },
  {
   "cell_type": "code",
   "execution_count": null,
   "metadata": {},
   "outputs": [],
   "source": [
    "data['pH']"
   ]
  },
  {
   "cell_type": "code",
   "execution_count": 6,
   "metadata": {},
   "outputs": [
    {
     "data": {
      "text/html": [
       "<div>\n",
       "<style scoped>\n",
       "    .dataframe tbody tr th:only-of-type {\n",
       "        vertical-align: middle;\n",
       "    }\n",
       "\n",
       "    .dataframe tbody tr th {\n",
       "        vertical-align: top;\n",
       "    }\n",
       "\n",
       "    .dataframe thead th {\n",
       "        text-align: right;\n",
       "    }\n",
       "</style>\n",
       "<table border=\"1\" class=\"dataframe\">\n",
       "  <thead>\n",
       "    <tr style=\"text-align: right;\">\n",
       "      <th></th>\n",
       "      <th>Logbook</th>\n",
       "      <th>ml.5</th>\n",
       "    </tr>\n",
       "  </thead>\n",
       "  <tbody>\n",
       "    <tr>\n",
       "      <th>0</th>\n",
       "      <td>Method Settings</td>\n",
       "      <td>-10.028101</td>\n",
       "    </tr>\n",
       "    <tr>\n",
       "      <th>1</th>\n",
       "      <td>Equilibration</td>\n",
       "      <td>-10.028048</td>\n",
       "    </tr>\n",
       "    <tr>\n",
       "      <th>2</th>\n",
       "      <td>Sample Application</td>\n",
       "      <td>-0.005532</td>\n",
       "    </tr>\n",
       "    <tr>\n",
       "      <th>3</th>\n",
       "      <td>Column Wash</td>\n",
       "      <td>12.004667</td>\n",
       "    </tr>\n",
       "    <tr>\n",
       "      <th>4</th>\n",
       "      <td>Elution</td>\n",
       "      <td>22.004705</td>\n",
       "    </tr>\n",
       "    <tr>\n",
       "      <th>5</th>\n",
       "      <td>Column CIP</td>\n",
       "      <td>32.014685</td>\n",
       "    </tr>\n",
       "    <tr>\n",
       "      <th>6</th>\n",
       "      <td>NaN</td>\n",
       "      <td>NaN</td>\n",
       "    </tr>\n",
       "    <tr>\n",
       "      <th>7</th>\n",
       "      <td>NaN</td>\n",
       "      <td>NaN</td>\n",
       "    </tr>\n",
       "    <tr>\n",
       "      <th>8</th>\n",
       "      <td>NaN</td>\n",
       "      <td>NaN</td>\n",
       "    </tr>\n",
       "    <tr>\n",
       "      <th>9</th>\n",
       "      <td>NaN</td>\n",
       "      <td>NaN</td>\n",
       "    </tr>\n",
       "  </tbody>\n",
       "</table>\n",
       "</div>"
      ],
      "text/plain": [
       "              Logbook       ml.5\n",
       "0     Method Settings -10.028101\n",
       "1       Equilibration -10.028048\n",
       "2  Sample Application  -0.005532\n",
       "3         Column Wash  12.004667\n",
       "4             Elution  22.004705\n",
       "5          Column CIP  32.014685\n",
       "6                 NaN        NaN\n",
       "7                 NaN        NaN\n",
       "8                 NaN        NaN\n",
       "9                 NaN        NaN"
      ]
     },
     "execution_count": 6,
     "metadata": {},
     "output_type": "execute_result"
    }
   ],
   "source": [
    "data[['Logbook', 'ml.5']].head(10)"
   ]
  },
  {
   "cell_type": "code",
   "execution_count": null,
   "metadata": {},
   "outputs": [],
   "source": []
  },
  {
   "cell_type": "code",
   "execution_count": 96,
   "metadata": {},
   "outputs": [],
   "source": [
    "data['mAU'] = data['mAU'].apply(lambda x: 0 if x < 0 else x)\n",
    "data['mAU'] = data['mAU'].loc[data['ml'] > 0]\n",
    "data['mAU'] = data['mAU'].loc[data['ml'] > 20]\n",
    "data['mAU'].reset_index(drop=True, inplace=True)\n",
    "data['mAU'].dropna(inplace=True)\n"
   ]
  },
  {
   "cell_type": "code",
   "execution_count": 48,
   "metadata": {},
   "outputs": [
    {
     "name": "stdout",
     "output_type": "stream",
     "text": [
      "22.966198\n",
      "23.268616\n",
      "0.30241800000000296\n"
     ]
    }
   ],
   "source": [
    "print(data['ml'][27058])\n",
    "print(data['ml'][27306])\n",
    "print(data['ml'][27306] - data['ml'][27058])"
   ]
  },
  {
   "cell_type": "code",
   "execution_count": 50,
   "metadata": {},
   "outputs": [],
   "source": [
    "def query_line(results):\n",
    "    row_0 = [i for i in results[0]]\n",
    "    row_1 = [data['ml'][round(i)] for i in results[1]]\n",
    "    row_2 = [data['ml'][round(i)] for i in results[2]]\n",
    "    return [row_0, row_1, row_2]"
   ]
  },
  {
   "cell_type": "code",
   "execution_count": 97,
   "metadata": {},
   "outputs": [
    {
     "data": {
      "image/png": "[encoded data removed]",
      "text/plain": [
       "<Figure size 2000x1000 with 1 Axes>"
      ]
     },
     "metadata": {},
     "output_type": "display_data"
    }
   ],
   "source": [
    "peaks, info = find_peaks(data['mAU'], height=12, width=25)\n",
    "results_half = peak_widths(data['mAU'], peaks, rel_height=0.5)\n",
    "results_full = peak_widths(data['mAU'], peaks, rel_height=1)\n",
    "results_five_pec = peak_widths(data['mAU'], peaks, rel_height=0.95)\n",
    "results_ten_pec = peak_widths(data['mAU'], peaks, rel_height=0.9)\n",
    "prominences = peak_prominences(data['mAU'], peaks)[0]\n",
    "contour_heights = data['mAU'][peaks] - prominences\n",
    "\n",
    "\n",
    "half = query_line(results_half[1:])\n",
    "full = query_line(results_full[1:])\n",
    "ten_pec = query_line(results_ten_pec[1:])\n",
    "five_pec = query_line(results_five_pec[1:])\n",
    "\n",
    "plt.rcParams[\"figure.figsize\"] = (20,10)\n",
    "plt.plot(data['ml'], data['mAU'])\n",
    "plt.plot(data['ml'][peaks], data['mAU'][peaks], \"x\")\n",
    "# plt.plot(np.zeros_like(data['mAU']), \"--\", color=\"gray\")\n",
    "plt.hlines(y=0, xmin=min(data['ml']), xmax=max(data['ml']), linestyle=\"dashed\", color=\"gray\" )\n",
    "plt.hlines(*half, color=\"C2\")\n",
    "plt.hlines(*full, color=\"C3\")\n",
    "plt.hlines(*five_pec, color=\"C4\")\n",
    "# plt.hlines(*ten_pec, color=\"C4\")\n",
    "plt.vlines(x=data['ml'][peaks], ymin=contour_heights, ymax=data['mAU'][peaks])\n",
    "plt.show()"
   ]
  },
  {
   "cell_type": "code",
   "execution_count": 126,
   "metadata": {},
   "outputs": [],
   "source": [
    "def tailing_factor(peaks, results, height):\n",
    "    res = {}\n",
    "    for i in range(len(peaks)):\n",
    "        a = peaks[i] - results[1][i]\n",
    "        b = results[2][i] - peaks[i]\n",
    "        Tf = (a+b) / (2*a)\n",
    "        res[height[i]] = Tf\n",
    "    return res\n",
    "\n",
    "def symmmetry_factor(peaks, results, height):\n",
    "    res = {}\n",
    "    for i in range(len(peaks)):\n",
    "        a = peaks[i] - results[1][i]\n",
    "        b = results[2][i] - peaks[i]\n",
    "        S = b / (2 * a)\n",
    "        res[height[i]] = S\n",
    "    return res\n",
    "\n",
    "\n",
    "def peak_assymetry(peaks, results, height):\n",
    "    res = {}\n",
    "    for i in range(len(peaks)):\n",
    "        a = peaks[i] - results[1][i]\n",
    "        b = results[2][i] - peaks[i]\n",
    "        res[height[i]] = b/a\n",
    "    return res\n",
    "\n",
    "def number_of_theoretical_plates(peaks, results, height):\n",
    "    res = {}\n",
    "    for i in range(len(peaks)):\n",
    "        retention_volume = data['ml'][peaks[i]]\n",
    "        #width = results[i]\n",
    "        width = data['ml'][round(results[2][i])] - data['ml'][round(results[1][i])]\n",
    "        N = 5.54 * (retention_volume/width)**2\n",
    "        res[height[i]] = N\n",
    "    return res\n",
    "\n",
    "def area(peaks, results, height):\n",
    "    res = {}\n",
    "    n_plates = number_of_theoretical_plates(peaks, results, height)\n",
    "    for i in range(len(peaks)):\n",
    "        retention_volume = data['ml'][peaks[i]]\n",
    "        H = height[i]\n",
    "        N = n_plates[H]\n",
    "        denominator = math.sqrt(N / (2*math.pi))\n",
    "        # print(data['ml'][peaks[i]])\n",
    "        area = (retention_volume * H) / denominator\n",
    "        res[height[i]] = area\n",
    "    return res"
   ]
  },
  {
   "cell_type": "code",
   "execution_count": 103,
   "metadata": {},
   "outputs": [
    {
     "data": {
      "text/plain": [
       "0.3524320000000003"
      ]
     },
     "execution_count": 103,
     "metadata": {},
     "output_type": "execute_result"
    }
   ],
   "source": [
    "data['ml'][round(27277.3048449)] - data['ml'][round(26988.1057024)]"
   ]
  },
  {
   "cell_type": "code",
   "execution_count": 102,
   "metadata": {},
   "outputs": [
    {
     "data": {
      "text/plain": [
       "(array([289.1991425 , 349.86218661]),\n",
       " array([32.654195 ,  7.4932275]),\n",
       " array([26988.1057024 , 41556.73356753]),\n",
       " array([27277.3048449 , 41906.59575414]))"
      ]
     },
     "execution_count": 102,
     "metadata": {},
     "output_type": "execute_result"
    }
   ],
   "source": [
    "results_half"
   ]
  },
  {
   "cell_type": "code",
   "execution_count": null,
   "metadata": {},
   "outputs": [],
   "source": [
    "{61.495642000000004: 2.5076078605210754, 14.986455: 0.6791582051517077}\n",
    "{61.495642000000004: 2.0076078605210754, 14.986455: 0.17915820515170763}\n",
    "{61.495642000000004: 2.820288307258188, 14.986455: 2.7376077590844337}\n",
    "{61.495642000000004: 0.035139235091620334, 14.986455: 0.0755685130726954}\n",
    "23.032351\n",
    "40.861336\n",
    "{61.495642000000004: 22292955.02080607, 14.986455: 5702519.701900862}"
   ]
  },
  {
   "cell_type": "code",
   "execution_count": 122,
   "metadata": {},
   "outputs": [
    {
     "data": {
      "text/plain": [
       "array([61.495642, 14.986455])"
      ]
     },
     "execution_count": 122,
     "metadata": {},
     "output_type": "execute_result"
    }
   ],
   "source": [
    "prominences"
   ]
  },
  {
   "cell_type": "code",
   "execution_count": 127,
   "metadata": {},
   "outputs": [
    {
     "name": "stdout",
     "output_type": "stream",
     "text": [
      "{61.495642000000004: 2.5076078605210754, 14.986455: 0.6791582051517077}\n",
      "{61.495642000000004: 2.0076078605210754, 14.986455: 0.17915820515170763}\n",
      "{61.495642000000004: 2.820288307258188, 14.986455: 2.7376077590844337}\n",
      "{61.495642000000004: 23661.13843368438, 14.986455: 50774.70410767185}\n",
      "{61.495642000000004: 248.06199941439277, 14.986455: 137.4293318079233}\n"
     ]
    }
   ],
   "source": [
    "print(tailing_factor(peaks, results_five_pec[1:], prominences))\n",
    "print(symmmetry_factor(peaks, results_five_pec[1:], prominences))\n",
    "print(peak_assymetry(peaks, results_ten_pec[1:], prominences))\n",
    "print(number_of_theoretical_plates(peaks, results_half[1:], prominences))\n",
    "print(area(peaks, results_full[1:], prominences))"
   ]
  }
 ],
 "metadata": {
  "kernelspec": {
   "display_name": "rdstuff",
   "language": "python",
   "name": "python3"
  },
  "language_info": {
   "codemirror_mode": {
    "name": "ipython",
    "version": 3
   },
   "file_extension": ".py",
   "mimetype": "text/x-python",
   "name": "python",
   "nbconvert_exporter": "python",
   "pygments_lexer": "ipython3",
   "version": "3.1.0"
  }
 },
 "nbformat": 4,
 "nbformat_minor": 2
}
