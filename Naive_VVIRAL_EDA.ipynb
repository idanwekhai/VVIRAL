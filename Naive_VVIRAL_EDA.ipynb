{
  "cells": [
    {
      "cell_type": "code",
      "execution_count": 1,
      "metadata": {
        "id": "b7V5Z02zsYft"
      },
      "outputs": [],
      "source": [
        "import os\n",
        "import re\n",
        "import glob\n",
        "from collections import defaultdict\n",
        "from tqdm import tqdm\n",
        "import numpy as np\n",
        "import pandas as pd\n",
        "import matplotlib.pyplot as plt"
      ]
    },
    {
      "cell_type": "code",
      "execution_count": 10,
      "metadata": {},
      "outputs": [],
      "source": [
        "def make_dir_if_not_exists(folder):\n",
        "    \"\"\"\n",
        "    This function takes in a folder name and creates a folder if it does not exist.\n",
        "    Args:\n",
        "        folder: folder name\n",
        "    Returns:\n",
        "        None\"\n",
        "    \"\"\"\n",
        "    if not os.path.exists(folder):\n",
        "        os.makedirs(folder)\n",
        "\n",
        "def get_col_name_from_index(data, index):\n",
        "    \"\"\"\n",
        "    This function takes in a dataframe and an index and returns the column name.\n",
        "    Args:\n",
        "        data: dataframe\n",
        "        index: index of the column\n",
        "    Returns:\n",
        "        column name\"\"\"\n",
        "    return data.columns[index]\n",
        "\n",
        "def load_useful_data(data):\n",
        "    \"\"\"\n",
        "    This function takes in a dataframe and returns a dictionary with useful data.\n",
        "    Args:\n",
        "        data: dataframe\n",
        "    Returns:\n",
        "        data_dict: dictionary with useful data\n",
        "    \"\"\"\n",
        "    pH = list(data.columns).index('pH')\n",
        "\n",
        "    uv_280 = list(data.columns).index('mAU')\n",
        "    uv_260 = list(data.columns).index('mAU.1')\n",
        "    conductivity = list(data.columns).index('mS/cm')\n",
        "    sample_flow = list(data.columns).index('CV/h')\n",
        "    system_flow = list(data.columns).index('CV/h.1')\n",
        "    sample_pressure = list(data.columns).index('MPa')\n",
        "    system_pressure = list(data.columns).index('MPa.1')\n",
        "\n",
        "    ml_pH = pH - 1\n",
        "    ml_uv_280 = uv_280 - 1\n",
        "    ml_uv_260 = uv_260 - 1\n",
        "    ml_conductivity = conductivity - 1\n",
        "    ml_sample_flow = sample_flow - 1\n",
        "    ml_system_flow = system_flow - 1\n",
        "    ml_sample_pressure = sample_pressure - 1\n",
        "    ml_system_pressure = system_pressure - 1\n",
        "\n",
        "    data_dict = {'pH': [get_col_name_from_index(data, ml_pH), get_col_name_from_index(data, pH)],\n",
        "                'UV_280': [get_col_name_from_index(data, ml_uv_280), get_col_name_from_index(data, uv_280)], \n",
        "                'UV_260': [get_col_name_from_index(data, ml_uv_260), get_col_name_from_index(data, uv_260)], \n",
        "                'Conductivity': [get_col_name_from_index(data, ml_conductivity), get_col_name_from_index(data, conductivity)], \n",
        "                'Sample Flow': [get_col_name_from_index(data, ml_sample_flow), get_col_name_from_index(data, sample_flow)], \n",
        "                'System_flow': [get_col_name_from_index(data, ml_system_flow), get_col_name_from_index(data, system_flow)], \n",
        "                'Sample Pressure': [get_col_name_from_index(data, ml_sample_pressure), get_col_name_from_index(data, sample_pressure)], \n",
        "                'System Pressure': [get_col_name_from_index(data, ml_system_pressure), get_col_name_from_index(data, system_pressure)]}\n",
        "    return data_dict\n",
        "\n",
        "def get_resin_and_serotype(name):\n",
        "    \"\"\"\n",
        "    This function takes in a name and returns the resin used and serotype of AAV.\n",
        "    Args:\n",
        "        name: name of the file\n",
        "    Returns:\n",
        "        resin: resin used\n",
        "        serotype: serotype of AAV\n",
        "    \"\"\"\n",
        "    resin = re.findall(r'AAV[A-Z]\\d+', name)\n",
        "    serotype = re.findall(r'AAV*\\d+', name)\n",
        "    if len(resin) == 0:\n",
        "        resin = 'Unknown'\n",
        "    if len(serotype) == 0:\n",
        "        serotype = 'Unknown'\n",
        "    return resin[0], serotype[0]\n",
        "\n",
        "# def plot_data(data, folder, name, data_dict, columns=['UV_280', 'Conductivity']):\n",
        "#     \"\"\"\n",
        "#     This function takes in a dataframe and plots the data.\n",
        "#     Args:\n",
        "#         data: dataframe\n",
        "#         folder: folder to save the plots\n",
        "#         name: name of the plot\n",
        "#         data_dict: dictionary with useful data\n",
        "#         columns: list of columns to plot\n",
        "#     Returns:\n",
        "#         None\"\"\"\n",
        "#     plt.rcParams[\"figure.figsize\"] = (20,10)\n",
        "#     for key in columns:\n",
        "#         plt.plot( data[data_dict[key][0]], data[data_dict[key][1]], label=key)\n",
        "#     resin, serotype = get_resin_and_serotype(name)\n",
        "#     plt.title(f'Resin: {resin}, Serotype: {serotype}')\n",
        "#     plt.xlabel('Volume (ml)')\n",
        "#     plt.ylabel('mAU')\n",
        "#     plt.legend()\n",
        "#     plt.savefig(f'{folder}/plots/{name}.png')\n",
        "#     plt.clf()\n",
        "\n",
        "def plot_data(data, folder, name, data_dict, columns=['UV_280', 'Conductivity']):\n",
        "    \"\"\"\n",
        "    This function takes in a dataframe and plots the data.\n",
        "    Args:\n",
        "        data: dataframe\n",
        "        folder: folder to save the plots\n",
        "        name: name of the plot\n",
        "        data_dict: dictionary with useful data\n",
        "        columns: list of columns to plot\n",
        "    Returns:\n",
        "        None\"\"\"\n",
        "    plt.rcParams[\"figure.figsize\"] = (20,10)\n",
        "    fig, ax1 = plt.subplots()\n",
        "    ax2 = ax1.twinx()\n",
        "    ax1.plot(data[data_dict[columns[0]][0]], data[data_dict[columns[0]][1]], 'g-', label=columns[0])\n",
        "    ax2.plot(data[data_dict[columns[0]][0]], data[data_dict[columns[1]][1]], 'b-', label=columns[1]) \n",
        "    ax1.set_xlabel('Volume (ml)')\n",
        "    ax1.set_ylabel('mAU', color='g')\n",
        "    ax2.set_ylabel('mS/cm', color='b')\n",
        "    resin, serotype = get_resin_and_serotype(name)\n",
        "    plt.title(f'Resin: {resin}, Serotype: {serotype}')\n",
        "    plt.legend()\n",
        "    fig.savefig(f'{folder}/plots/{name}.png')\n",
        "    fig.clf()\n",
        "    fig.clear()\n",
        "    \n",
        "    # plt.savefig(f'{folder}/plots/{name}.png')\n",
        "    # plt.clf()"
      ]
    },
    {
      "cell_type": "code",
      "execution_count": 15,
      "metadata": {},
      "outputs": [
        {
          "name": "stderr",
          "output_type": "stream",
          "text": [
            "/tmp/ipykernel_1257097/2362282826.py:110: RuntimeWarning: More than 20 figures have been opened. Figures created through the pyplot interface (`matplotlib.pyplot.figure`) are retained until explicitly closed and may consume too much memory. (To control this warning, see the rcParam `figure.max_open_warning`).\n",
            "  fig, ax1 = plt.subplots()\n"
          ]
        },
        {
          "data": {
            "text/plain": [
              "<Figure size 2000x1000 with 0 Axes>"
            ]
          },
          "metadata": {},
          "output_type": "display_data"
        },
        {
          "data": {
            "text/plain": [
              "<Figure size 2000x1000 with 0 Axes>"
            ]
          },
          "metadata": {},
          "output_type": "display_data"
        },
        {
          "data": {
            "text/plain": [
              "<Figure size 2000x1000 with 0 Axes>"
            ]
          },
          "metadata": {},
          "output_type": "display_data"
        },
        {
          "data": {
            "text/plain": [
              "<Figure size 2000x1000 with 0 Axes>"
            ]
          },
          "metadata": {},
          "output_type": "display_data"
        },
        {
          "data": {
            "text/plain": [
              "<Figure size 2000x1000 with 0 Axes>"
            ]
          },
          "metadata": {},
          "output_type": "display_data"
        },
        {
          "data": {
            "text/plain": [
              "<Figure size 2000x1000 with 0 Axes>"
            ]
          },
          "metadata": {},
          "output_type": "display_data"
        },
        {
          "data": {
            "text/plain": [
              "<Figure size 2000x1000 with 0 Axes>"
            ]
          },
          "metadata": {},
          "output_type": "display_data"
        },
        {
          "data": {
            "text/plain": [
              "<Figure size 2000x1000 with 0 Axes>"
            ]
          },
          "metadata": {},
          "output_type": "display_data"
        },
        {
          "data": {
            "text/plain": [
              "<Figure size 2000x1000 with 0 Axes>"
            ]
          },
          "metadata": {},
          "output_type": "display_data"
        },
        {
          "data": {
            "text/plain": [
              "<Figure size 2000x1000 with 0 Axes>"
            ]
          },
          "metadata": {},
          "output_type": "display_data"
        },
        {
          "data": {
            "text/plain": [
              "<Figure size 2000x1000 with 0 Axes>"
            ]
          },
          "metadata": {},
          "output_type": "display_data"
        },
        {
          "data": {
            "text/plain": [
              "<Figure size 2000x1000 with 0 Axes>"
            ]
          },
          "metadata": {},
          "output_type": "display_data"
        },
        {
          "data": {
            "text/plain": [
              "<Figure size 2000x1000 with 0 Axes>"
            ]
          },
          "metadata": {},
          "output_type": "display_data"
        },
        {
          "data": {
            "text/plain": [
              "<Figure size 2000x1000 with 0 Axes>"
            ]
          },
          "metadata": {},
          "output_type": "display_data"
        },
        {
          "data": {
            "text/plain": [
              "<Figure size 2000x1000 with 0 Axes>"
            ]
          },
          "metadata": {},
          "output_type": "display_data"
        },
        {
          "data": {
            "text/plain": [
              "<Figure size 2000x1000 with 0 Axes>"
            ]
          },
          "metadata": {},
          "output_type": "display_data"
        },
        {
          "data": {
            "text/plain": [
              "<Figure size 2000x1000 with 0 Axes>"
            ]
          },
          "metadata": {},
          "output_type": "display_data"
        },
        {
          "data": {
            "text/plain": [
              "<Figure size 2000x1000 with 0 Axes>"
            ]
          },
          "metadata": {},
          "output_type": "display_data"
        },
        {
          "data": {
            "text/plain": [
              "<Figure size 2000x1000 with 0 Axes>"
            ]
          },
          "metadata": {},
          "output_type": "display_data"
        },
        {
          "data": {
            "text/plain": [
              "<Figure size 2000x1000 with 0 Axes>"
            ]
          },
          "metadata": {},
          "output_type": "display_data"
        },
        {
          "data": {
            "text/plain": [
              "<Figure size 2000x1000 with 0 Axes>"
            ]
          },
          "metadata": {},
          "output_type": "display_data"
        },
        {
          "data": {
            "text/plain": [
              "<Figure size 2000x1000 with 0 Axes>"
            ]
          },
          "metadata": {},
          "output_type": "display_data"
        },
        {
          "data": {
            "text/plain": [
              "<Figure size 2000x1000 with 0 Axes>"
            ]
          },
          "metadata": {},
          "output_type": "display_data"
        }
      ],
      "source": [
        "folder ='AAV10/'\n",
        "CSVs = glob.glob(f'{folder}/*.csv')\n",
        "\n",
        "for csv in CSVs:\n",
        "    name = csv.split('/')[-1][:-4]\n",
        "    # print(name)\n",
        "    data = pd.read_csv(csv, skiprows = [0,1], delimiter='\\t', encoding='utf_16', low_memory=False)\n",
        "    data_dict = load_useful_data(data)\n",
        "    make_dir_if_not_exists(f'{folder}/plots')\n",
        "    plot_data(data, folder, name, data_dict)"
      ]
    },
    {
      "cell_type": "code",
      "execution_count": 117,
      "metadata": {},
      "outputs": [],
      "source": [
        "!rm -rf AAV10/plots"
      ]
    },
    {
      "cell_type": "code",
      "execution_count": 102,
      "metadata": {},
      "outputs": [],
      "source": [
        "folder ='SEC'\n",
        "\n",
        "TXTs = glob.glob(f'{folder}/*.txt')\n",
        "ARWs = glob.glob(f'{folder}/*.arw')"
      ]
    },
    {
      "cell_type": "code",
      "execution_count": 98,
      "metadata": {},
      "outputs": [],
      "source": [
        "data = defaultdict(list)\n",
        "\n",
        "def make_dir_if_not_exists(folder):\n",
        "    \"\"\"\n",
        "    This function takes in a folder name and creates a folder if it does not exist.\n",
        "    Args:\n",
        "        folder: folder name\n",
        "    Returns:\n",
        "        None\"\n",
        "    \"\"\"\n",
        "    if not os.path.exists(folder):\n",
        "        os.makedirs(folder)\n",
        "\n",
        "def plot_sec_data(data, sample_set, sample_name, channel):\n",
        "    \"\"\"\n",
        "    This function takes in a dataframe and plots the data.\n",
        "    Args:\n",
        "        data: dataframe\n",
        "    Returns:\n",
        "        None\n",
        "    \"\"\"\n",
        "    plt.rcParams[\"figure.figsize\"] = (20,10)\n",
        "    plt.plot(data[0], data[1])\n",
        "    plt.title(f'Sample Set: {sample_set} | Sample Name: {sample_name} | Channel: {channel}')\n",
        "    plt.xlabel('Volume (ml)')\n",
        "    plt.ylabel('mAU')\n",
        "    # plt.legend()\n",
        "    plt.savefig(f'{folder}/plots/{name}.png')\n",
        "    plt.clf()\n",
        "\n",
        "with tqdm(total=len(TXTs)) as t:\n",
        "    for txt in TXTs:\n",
        "        f = open(txt).read().split('\\t')\n",
        "        filename = txt.split('/')[-1][:-4]\n",
        "        SampleName = f[19].replace('\"', '')\n",
        "        Channel = f[20].replace('\"', '')\n",
        "        SampleSetName = f[18].replace('\"', '')\n",
        "        data[filename].extend([SampleSetName, SampleName, Channel])\n",
        "\n",
        "\n",
        "with tqdm(total=len(ARWs)) as t:\n",
        "    for arw in ARWs:\n",
        "        filename = arw.split('/')[-1][:-4]\n",
        "        if filename in data:\n",
        "            details = data[filename]\n",
        "            sample_set = details[0].strip(\" \")\n",
        "            sample_name = details[1].strip(\" \")\n",
        "            channel = details[2].strip(\" \")\n",
        "            sample_set_dir = make_dir_if_not_exists(details[0])\n",
        "            sample_name_dir = make_dir_if_not_exists(f'{details[0]}/{details[1]}')\n",
        "            if details[2] != 'PDA Spectrum':\n",
        "                df = pd.read_csv(arw, header=None, delimiter='\\t')\n",
        "                df.to_csv(f'{details[0]}/{details[1]}/{details[2]}.csv', header=False, index=False)\n",
        "            t.update(1)"
      ]
    },
    {
      "cell_type": "code",
      "execution_count": 48,
      "metadata": {},
      "outputs": [
        {
          "data": {
            "text/plain": [
              "defaultdict(list,\n",
              "            {'kviral2154': ['FEED FOR REK AND BDM',\n",
              "              'AAVA3 DBC 6H8',\n",
              "              'PDA Ch2 280nm@4.8nm'],\n",
              "             'kviral2151': ['FEED FOR REK AND BDM',\n",
              "              'AAVA3 DBC 6H8',\n",
              "              'ACQUITY FLR ChA '],\n",
              "             'kviral2153': ['FEED FOR REK AND BDM',\n",
              "              'AAVA3 DBC 6H8',\n",
              "              'PDA Ch1 260nm@4.8nm'],\n",
              "             'kviral2152': ['FEED FOR REK AND BDM',\n",
              "              'AAVA3 DBC 6H8',\n",
              "              'PDA Spectrum']})"
            ]
          },
          "execution_count": 48,
          "metadata": {},
          "output_type": "execute_result"
        }
      ],
      "source": [
        "data"
      ]
    },
    {
      "cell_type": "code",
      "execution_count": 18,
      "metadata": {},
      "outputs": [],
      "source": [
        "data[['ml', 'mAU']].dropna().to_csv('test.csv', index=False)"
      ]
    },
    {
      "cell_type": "code",
      "execution_count": null,
      "metadata": {},
      "outputs": [],
      "source": []
    }
  ],
  "metadata": {
    "colab": {
      "provenance": []
    },
    "kernelspec": {
      "display_name": "Python 3",
      "name": "python3"
    },
    "language_info": {
      "codemirror_mode": {
        "name": "ipython",
        "version": 3
      },
      "file_extension": ".py",
      "mimetype": "text/x-python",
      "name": "python",
      "nbconvert_exporter": "python",
      "pygments_lexer": "ipython3",
      "version": "3.1.0"
    }
  },
  "nbformat": 4,
  "nbformat_minor": 0
}
