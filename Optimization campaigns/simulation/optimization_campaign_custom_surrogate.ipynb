{
 "cells": [
  {
   "cell_type": "code",
   "execution_count": null,
   "metadata": {
    "colab": {
     "base_uri": "https://localhost:8080/",
     "height": 366
    },
    "id": "6VM9YIgbmaCq",
    "outputId": "a97a3f5e-b4b6-4929-d8f8-4c63d28828af"
   },
   "outputs": [],
   "source": [
    "import os\n",
    "import sys\n",
    "from pathlib import Path\n",
    "\n",
    "import gpytorch"
   ]
  },
  {
   "cell_type": "code",
   "execution_count": null,
   "metadata": {
    "id": "LRSSODnWnS8k"
   },
   "outputs": [],
   "source": [
    "import numpy as np\n",
    "import seaborn as sns\n",
    "import matplotlib.pyplot as plt\n",
    "from botorch.test_functions import Rastrigin"
   ]
  },
  {
   "cell_type": "code",
   "execution_count": null,
   "metadata": {
    "id": "Agmr3EjHnVoq"
   },
   "outputs": [],
   "source": [
    "from baybe import Campaign\n",
    "from baybe.objectives import SingleTargetObjective\n",
    "from baybe.acquisition.acqfs import LogExpectedImprovement, PosteriorMean, ProbabilityOfImprovement, UpperConfidenceBound, qExpectedImprovement, qLogExpectedImprovement, qProbabilityOfImprovement, qUpperConfidenceBound\n",
    "from baybe.parameters import NumericalDiscreteParameter\n",
    "from baybe.recommenders import RandomRecommender, SequentialGreedyRecommender, TwoPhaseMetaRecommender\n",
    "from baybe.searchspace import SearchSpace\n",
    "from baybe.simulation import simulate_scenarios\n",
    "from baybe.targets import NumericalTarget\n",
    "from baybe.utils.botorch_wrapper import botorch_function_wrapper\n",
    "from baybe.utils.plotting import create_example_plots"
   ]
  },
  {
   "cell_type": "code",
   "execution_count": null,
   "metadata": {
    "id": "CZLnmfqE9Cdu"
   },
   "outputs": [],
   "source": [
    "import pandas as pd\n",
    "from sklearn.gaussian_process import GaussianProcessRegressor\n",
    "from sklearn.ensemble import RandomForestRegressor\n",
    "from sklearn.gaussian_process.kernels import RBF\n",
    "from sklearn.gaussian_process.kernels import *\n",
    "from sklearn.preprocessing import MinMaxScaler, StandardScaler\n",
    "from sklearn.model_selection import train_test_split\n",
    "from sklearn import metrics\n",
    "\n",
    "from typing import Optional\n",
    "from torch import Tensor\n",
    "from baybe.searchspace import SearchSpace\n",
    "from baybe.surrogates import register_custom_architecture\n",
    "# from baybe.utils.dataframe import add_fake_results"
   ]
  },
  {
   "cell_type": "code",
   "execution_count": null,
   "metadata": {
    "id": "CFSOQqLRuJFv"
   },
   "outputs": [],
   "source": [
    "%matplotlib inline"
   ]
  },
  {
   "cell_type": "code",
   "execution_count": null,
   "metadata": {
    "id": "BRadP-wNnWyh"
   },
   "outputs": [],
   "source": [
    "SMOKE_TEST = \"SMOKE_TEST\" in os.environ"
   ]
  },
  {
   "cell_type": "code",
   "execution_count": null,
   "metadata": {
    "colab": {
     "base_uri": "https://localhost:8080/"
    },
    "id": "3kB1OaxNsVxT",
    "outputId": "fe8f2497-215c-413e-adf5-fc304e9d2e3d"
   },
   "outputs": [
    {
     "data": {
      "text/plain": [
       "False"
      ]
     },
     "execution_count": 8,
     "metadata": {},
     "output_type": "execute_result"
    }
   ],
   "source": [
    "SMOKE_TEST"
   ]
  },
  {
   "cell_type": "code",
   "execution_count": null,
   "metadata": {
    "id": "ftDqR84ZnYN5"
   },
   "outputs": [],
   "source": [
    "N_MC_ITERATIONS = 5\n",
    "N_DOE_ITERATIONS = 5\n",
    "BATCH_SIZE = 10\n",
    "POINTS_PER_DIM = 10"
   ]
  },
  {
   "cell_type": "code",
   "execution_count": null,
   "metadata": {
    "colab": {
     "base_uri": "https://localhost:8080/",
     "height": 80
    },
    "id": "1FsagjKu8LjG",
    "outputId": "cc462f1c-8540-4d1d-f260-3dd9d84bf865"
   },
   "outputs": [
    {
     "data": {
      "text/html": [
       "<style>#sk-container-id-1 {\n",
       "  /* Definition of color scheme common for light and dark mode */\n",
       "  --sklearn-color-text: #000;\n",
       "  --sklearn-color-text-muted: #666;\n",
       "  --sklearn-color-line: gray;\n",
       "  /* Definition of color scheme for unfitted estimators */\n",
       "  --sklearn-color-unfitted-level-0: #fff5e6;\n",
       "  --sklearn-color-unfitted-level-1: #f6e4d2;\n",
       "  --sklearn-color-unfitted-level-2: #ffe0b3;\n",
       "  --sklearn-color-unfitted-level-3: chocolate;\n",
       "  /* Definition of color scheme for fitted estimators */\n",
       "  --sklearn-color-fitted-level-0: #f0f8ff;\n",
       "  --sklearn-color-fitted-level-1: #d4ebff;\n",
       "  --sklearn-color-fitted-level-2: #b3dbfd;\n",
       "  --sklearn-color-fitted-level-3: cornflowerblue;\n",
       "\n",
       "  /* Specific color for light theme */\n",
       "  --sklearn-color-text-on-default-background: var(--sg-text-color, var(--theme-code-foreground, var(--jp-content-font-color1, black)));\n",
       "  --sklearn-color-background: var(--sg-background-color, var(--theme-background, var(--jp-layout-color0, white)));\n",
       "  --sklearn-color-border-box: var(--sg-text-color, var(--theme-code-foreground, var(--jp-content-font-color1, black)));\n",
       "  --sklearn-color-icon: #696969;\n",
       "\n",
       "  @media (prefers-color-scheme: dark) {\n",
       "    /* Redefinition of color scheme for dark theme */\n",
       "    --sklearn-color-text-on-default-background: var(--sg-text-color, var(--theme-code-foreground, var(--jp-content-font-color1, white)));\n",
       "    --sklearn-color-background: var(--sg-background-color, var(--theme-background, var(--jp-layout-color0, #111)));\n",
       "    --sklearn-color-border-box: var(--sg-text-color, var(--theme-code-foreground, var(--jp-content-font-color1, white)));\n",
       "    --sklearn-color-icon: #878787;\n",
       "  }\n",
       "}\n",
       "\n",
       "#sk-container-id-1 {\n",
       "  color: var(--sklearn-color-text);\n",
       "}\n",
       "\n",
       "#sk-container-id-1 pre {\n",
       "  padding: 0;\n",
       "}\n",
       "\n",
       "#sk-container-id-1 input.sk-hidden--visually {\n",
       "  border: 0;\n",
       "  clip: rect(1px 1px 1px 1px);\n",
       "  clip: rect(1px, 1px, 1px, 1px);\n",
       "  height: 1px;\n",
       "  margin: -1px;\n",
       "  overflow: hidden;\n",
       "  padding: 0;\n",
       "  position: absolute;\n",
       "  width: 1px;\n",
       "}\n",
       "\n",
       "#sk-container-id-1 div.sk-dashed-wrapped {\n",
       "  border: 1px dashed var(--sklearn-color-line);\n",
       "  margin: 0 0.4em 0.5em 0.4em;\n",
       "  box-sizing: border-box;\n",
       "  padding-bottom: 0.4em;\n",
       "  background-color: var(--sklearn-color-background);\n",
       "}\n",
       "\n",
       "#sk-container-id-1 div.sk-container {\n",
       "  /* jupyter's `normalize.less` sets `[hidden] { display: none; }`\n",
       "     but bootstrap.min.css set `[hidden] { display: none !important; }`\n",
       "     so we also need the `!important` here to be able to override the\n",
       "     default hidden behavior on the sphinx rendered scikit-learn.org.\n",
       "     See: https://github.com/scikit-learn/scikit-learn/issues/21755 */\n",
       "  display: inline-block !important;\n",
       "  position: relative;\n",
       "}\n",
       "\n",
       "#sk-container-id-1 div.sk-text-repr-fallback {\n",
       "  display: none;\n",
       "}\n",
       "\n",
       "div.sk-parallel-item,\n",
       "div.sk-serial,\n",
       "div.sk-item {\n",
       "  /* draw centered vertical line to link estimators */\n",
       "  background-image: linear-gradient(var(--sklearn-color-text-on-default-background), var(--sklearn-color-text-on-default-background));\n",
       "  background-size: 2px 100%;\n",
       "  background-repeat: no-repeat;\n",
       "  background-position: center center;\n",
       "}\n",
       "\n",
       "/* Parallel-specific style estimator block */\n",
       "\n",
       "#sk-container-id-1 div.sk-parallel-item::after {\n",
       "  content: \"\";\n",
       "  width: 100%;\n",
       "  border-bottom: 2px solid var(--sklearn-color-text-on-default-background);\n",
       "  flex-grow: 1;\n",
       "}\n",
       "\n",
       "#sk-container-id-1 div.sk-parallel {\n",
       "  display: flex;\n",
       "  align-items: stretch;\n",
       "  justify-content: center;\n",
       "  background-color: var(--sklearn-color-background);\n",
       "  position: relative;\n",
       "}\n",
       "\n",
       "#sk-container-id-1 div.sk-parallel-item {\n",
       "  display: flex;\n",
       "  flex-direction: column;\n",
       "}\n",
       "\n",
       "#sk-container-id-1 div.sk-parallel-item:first-child::after {\n",
       "  align-self: flex-end;\n",
       "  width: 50%;\n",
       "}\n",
       "\n",
       "#sk-container-id-1 div.sk-parallel-item:last-child::after {\n",
       "  align-self: flex-start;\n",
       "  width: 50%;\n",
       "}\n",
       "\n",
       "#sk-container-id-1 div.sk-parallel-item:only-child::after {\n",
       "  width: 0;\n",
       "}\n",
       "\n",
       "/* Serial-specific style estimator block */\n",
       "\n",
       "#sk-container-id-1 div.sk-serial {\n",
       "  display: flex;\n",
       "  flex-direction: column;\n",
       "  align-items: center;\n",
       "  background-color: var(--sklearn-color-background);\n",
       "  padding-right: 1em;\n",
       "  padding-left: 1em;\n",
       "}\n",
       "\n",
       "\n",
       "/* Toggleable style: style used for estimator/Pipeline/ColumnTransformer box that is\n",
       "clickable and can be expanded/collapsed.\n",
       "- Pipeline and ColumnTransformer use this feature and define the default style\n",
       "- Estimators will overwrite some part of the style using the `sk-estimator` class\n",
       "*/\n",
       "\n",
       "/* Pipeline and ColumnTransformer style (default) */\n",
       "\n",
       "#sk-container-id-1 div.sk-toggleable {\n",
       "  /* Default theme specific background. It is overwritten whether we have a\n",
       "  specific estimator or a Pipeline/ColumnTransformer */\n",
       "  background-color: var(--sklearn-color-background);\n",
       "}\n",
       "\n",
       "/* Toggleable label */\n",
       "#sk-container-id-1 label.sk-toggleable__label {\n",
       "  cursor: pointer;\n",
       "  display: flex;\n",
       "  width: 100%;\n",
       "  margin-bottom: 0;\n",
       "  padding: 0.5em;\n",
       "  box-sizing: border-box;\n",
       "  text-align: center;\n",
       "  align-items: start;\n",
       "  justify-content: space-between;\n",
       "  gap: 0.5em;\n",
       "}\n",
       "\n",
       "#sk-container-id-1 label.sk-toggleable__label .caption {\n",
       "  font-size: 0.6rem;\n",
       "  font-weight: lighter;\n",
       "  color: var(--sklearn-color-text-muted);\n",
       "}\n",
       "\n",
       "#sk-container-id-1 label.sk-toggleable__label-arrow:before {\n",
       "  /* Arrow on the left of the label */\n",
       "  content: \"▸\";\n",
       "  float: left;\n",
       "  margin-right: 0.25em;\n",
       "  color: var(--sklearn-color-icon);\n",
       "}\n",
       "\n",
       "#sk-container-id-1 label.sk-toggleable__label-arrow:hover:before {\n",
       "  color: var(--sklearn-color-text);\n",
       "}\n",
       "\n",
       "/* Toggleable content - dropdown */\n",
       "\n",
       "#sk-container-id-1 div.sk-toggleable__content {\n",
       "  max-height: 0;\n",
       "  max-width: 0;\n",
       "  overflow: hidden;\n",
       "  text-align: left;\n",
       "  /* unfitted */\n",
       "  background-color: var(--sklearn-color-unfitted-level-0);\n",
       "}\n",
       "\n",
       "#sk-container-id-1 div.sk-toggleable__content.fitted {\n",
       "  /* fitted */\n",
       "  background-color: var(--sklearn-color-fitted-level-0);\n",
       "}\n",
       "\n",
       "#sk-container-id-1 div.sk-toggleable__content pre {\n",
       "  margin: 0.2em;\n",
       "  border-radius: 0.25em;\n",
       "  color: var(--sklearn-color-text);\n",
       "  /* unfitted */\n",
       "  background-color: var(--sklearn-color-unfitted-level-0);\n",
       "}\n",
       "\n",
       "#sk-container-id-1 div.sk-toggleable__content.fitted pre {\n",
       "  /* unfitted */\n",
       "  background-color: var(--sklearn-color-fitted-level-0);\n",
       "}\n",
       "\n",
       "#sk-container-id-1 input.sk-toggleable__control:checked~div.sk-toggleable__content {\n",
       "  /* Expand drop-down */\n",
       "  max-height: 200px;\n",
       "  max-width: 100%;\n",
       "  overflow: auto;\n",
       "}\n",
       "\n",
       "#sk-container-id-1 input.sk-toggleable__control:checked~label.sk-toggleable__label-arrow:before {\n",
       "  content: \"▾\";\n",
       "}\n",
       "\n",
       "/* Pipeline/ColumnTransformer-specific style */\n",
       "\n",
       "#sk-container-id-1 div.sk-label input.sk-toggleable__control:checked~label.sk-toggleable__label {\n",
       "  color: var(--sklearn-color-text);\n",
       "  background-color: var(--sklearn-color-unfitted-level-2);\n",
       "}\n",
       "\n",
       "#sk-container-id-1 div.sk-label.fitted input.sk-toggleable__control:checked~label.sk-toggleable__label {\n",
       "  background-color: var(--sklearn-color-fitted-level-2);\n",
       "}\n",
       "\n",
       "/* Estimator-specific style */\n",
       "\n",
       "/* Colorize estimator box */\n",
       "#sk-container-id-1 div.sk-estimator input.sk-toggleable__control:checked~label.sk-toggleable__label {\n",
       "  /* unfitted */\n",
       "  background-color: var(--sklearn-color-unfitted-level-2);\n",
       "}\n",
       "\n",
       "#sk-container-id-1 div.sk-estimator.fitted input.sk-toggleable__control:checked~label.sk-toggleable__label {\n",
       "  /* fitted */\n",
       "  background-color: var(--sklearn-color-fitted-level-2);\n",
       "}\n",
       "\n",
       "#sk-container-id-1 div.sk-label label.sk-toggleable__label,\n",
       "#sk-container-id-1 div.sk-label label {\n",
       "  /* The background is the default theme color */\n",
       "  color: var(--sklearn-color-text-on-default-background);\n",
       "}\n",
       "\n",
       "/* On hover, darken the color of the background */\n",
       "#sk-container-id-1 div.sk-label:hover label.sk-toggleable__label {\n",
       "  color: var(--sklearn-color-text);\n",
       "  background-color: var(--sklearn-color-unfitted-level-2);\n",
       "}\n",
       "\n",
       "/* Label box, darken color on hover, fitted */\n",
       "#sk-container-id-1 div.sk-label.fitted:hover label.sk-toggleable__label.fitted {\n",
       "  color: var(--sklearn-color-text);\n",
       "  background-color: var(--sklearn-color-fitted-level-2);\n",
       "}\n",
       "\n",
       "/* Estimator label */\n",
       "\n",
       "#sk-container-id-1 div.sk-label label {\n",
       "  font-family: monospace;\n",
       "  font-weight: bold;\n",
       "  display: inline-block;\n",
       "  line-height: 1.2em;\n",
       "}\n",
       "\n",
       "#sk-container-id-1 div.sk-label-container {\n",
       "  text-align: center;\n",
       "}\n",
       "\n",
       "/* Estimator-specific */\n",
       "#sk-container-id-1 div.sk-estimator {\n",
       "  font-family: monospace;\n",
       "  border: 1px dotted var(--sklearn-color-border-box);\n",
       "  border-radius: 0.25em;\n",
       "  box-sizing: border-box;\n",
       "  margin-bottom: 0.5em;\n",
       "  /* unfitted */\n",
       "  background-color: var(--sklearn-color-unfitted-level-0);\n",
       "}\n",
       "\n",
       "#sk-container-id-1 div.sk-estimator.fitted {\n",
       "  /* fitted */\n",
       "  background-color: var(--sklearn-color-fitted-level-0);\n",
       "}\n",
       "\n",
       "/* on hover */\n",
       "#sk-container-id-1 div.sk-estimator:hover {\n",
       "  /* unfitted */\n",
       "  background-color: var(--sklearn-color-unfitted-level-2);\n",
       "}\n",
       "\n",
       "#sk-container-id-1 div.sk-estimator.fitted:hover {\n",
       "  /* fitted */\n",
       "  background-color: var(--sklearn-color-fitted-level-2);\n",
       "}\n",
       "\n",
       "/* Specification for estimator info (e.g. \"i\" and \"?\") */\n",
       "\n",
       "/* Common style for \"i\" and \"?\" */\n",
       "\n",
       ".sk-estimator-doc-link,\n",
       "a:link.sk-estimator-doc-link,\n",
       "a:visited.sk-estimator-doc-link {\n",
       "  float: right;\n",
       "  font-size: smaller;\n",
       "  line-height: 1em;\n",
       "  font-family: monospace;\n",
       "  background-color: var(--sklearn-color-background);\n",
       "  border-radius: 1em;\n",
       "  height: 1em;\n",
       "  width: 1em;\n",
       "  text-decoration: none !important;\n",
       "  margin-left: 0.5em;\n",
       "  text-align: center;\n",
       "  /* unfitted */\n",
       "  border: var(--sklearn-color-unfitted-level-1) 1pt solid;\n",
       "  color: var(--sklearn-color-unfitted-level-1);\n",
       "}\n",
       "\n",
       ".sk-estimator-doc-link.fitted,\n",
       "a:link.sk-estimator-doc-link.fitted,\n",
       "a:visited.sk-estimator-doc-link.fitted {\n",
       "  /* fitted */\n",
       "  border: var(--sklearn-color-fitted-level-1) 1pt solid;\n",
       "  color: var(--sklearn-color-fitted-level-1);\n",
       "}\n",
       "\n",
       "/* On hover */\n",
       "div.sk-estimator:hover .sk-estimator-doc-link:hover,\n",
       ".sk-estimator-doc-link:hover,\n",
       "div.sk-label-container:hover .sk-estimator-doc-link:hover,\n",
       ".sk-estimator-doc-link:hover {\n",
       "  /* unfitted */\n",
       "  background-color: var(--sklearn-color-unfitted-level-3);\n",
       "  color: var(--sklearn-color-background);\n",
       "  text-decoration: none;\n",
       "}\n",
       "\n",
       "div.sk-estimator.fitted:hover .sk-estimator-doc-link.fitted:hover,\n",
       ".sk-estimator-doc-link.fitted:hover,\n",
       "div.sk-label-container:hover .sk-estimator-doc-link.fitted:hover,\n",
       ".sk-estimator-doc-link.fitted:hover {\n",
       "  /* fitted */\n",
       "  background-color: var(--sklearn-color-fitted-level-3);\n",
       "  color: var(--sklearn-color-background);\n",
       "  text-decoration: none;\n",
       "}\n",
       "\n",
       "/* Span, style for the box shown on hovering the info icon */\n",
       ".sk-estimator-doc-link span {\n",
       "  display: none;\n",
       "  z-index: 9999;\n",
       "  position: relative;\n",
       "  font-weight: normal;\n",
       "  right: .2ex;\n",
       "  padding: .5ex;\n",
       "  margin: .5ex;\n",
       "  width: min-content;\n",
       "  min-width: 20ex;\n",
       "  max-width: 50ex;\n",
       "  color: var(--sklearn-color-text);\n",
       "  box-shadow: 2pt 2pt 4pt #999;\n",
       "  /* unfitted */\n",
       "  background: var(--sklearn-color-unfitted-level-0);\n",
       "  border: .5pt solid var(--sklearn-color-unfitted-level-3);\n",
       "}\n",
       "\n",
       ".sk-estimator-doc-link.fitted span {\n",
       "  /* fitted */\n",
       "  background: var(--sklearn-color-fitted-level-0);\n",
       "  border: var(--sklearn-color-fitted-level-3);\n",
       "}\n",
       "\n",
       ".sk-estimator-doc-link:hover span {\n",
       "  display: block;\n",
       "}\n",
       "\n",
       "/* \"?\"-specific style due to the `<a>` HTML tag */\n",
       "\n",
       "#sk-container-id-1 a.estimator_doc_link {\n",
       "  float: right;\n",
       "  font-size: 1rem;\n",
       "  line-height: 1em;\n",
       "  font-family: monospace;\n",
       "  background-color: var(--sklearn-color-background);\n",
       "  border-radius: 1rem;\n",
       "  height: 1rem;\n",
       "  width: 1rem;\n",
       "  text-decoration: none;\n",
       "  /* unfitted */\n",
       "  color: var(--sklearn-color-unfitted-level-1);\n",
       "  border: var(--sklearn-color-unfitted-level-1) 1pt solid;\n",
       "}\n",
       "\n",
       "#sk-container-id-1 a.estimator_doc_link.fitted {\n",
       "  /* fitted */\n",
       "  border: var(--sklearn-color-fitted-level-1) 1pt solid;\n",
       "  color: var(--sklearn-color-fitted-level-1);\n",
       "}\n",
       "\n",
       "/* On hover */\n",
       "#sk-container-id-1 a.estimator_doc_link:hover {\n",
       "  /* unfitted */\n",
       "  background-color: var(--sklearn-color-unfitted-level-3);\n",
       "  color: var(--sklearn-color-background);\n",
       "  text-decoration: none;\n",
       "}\n",
       "\n",
       "#sk-container-id-1 a.estimator_doc_link.fitted:hover {\n",
       "  /* fitted */\n",
       "  background-color: var(--sklearn-color-fitted-level-3);\n",
       "}\n",
       "</style><div id=\"sk-container-id-1\" class=\"sk-top-container\"><div class=\"sk-text-repr-fallback\"><pre>GetDummies(dummy_columns=[&#x27;serotype&#x27;, &#x27;from&#x27;, &#x27;resin&#x27;])</pre><b>In a Jupyter environment, please rerun this cell to show the HTML representation or trust the notebook. <br />On GitHub, the HTML representation is unable to render, please try loading this page with nbviewer.org.</b></div><div class=\"sk-container\" hidden><div class=\"sk-item\"><div class=\"sk-estimator  sk-toggleable\"><input class=\"sk-toggleable__control sk-hidden--visually\" id=\"sk-estimator-id-1\" type=\"checkbox\" checked><label for=\"sk-estimator-id-1\" class=\"sk-toggleable__label  sk-toggleable__label-arrow\"><div><div>GetDummies</div></div><div><span class=\"sk-estimator-doc-link \">i<span>Not fitted</span></span></div></label><div class=\"sk-toggleable__content \"><pre>GetDummies(dummy_columns=[&#x27;serotype&#x27;, &#x27;from&#x27;, &#x27;resin&#x27;])</pre></div> </div></div></div></div>"
      ],
      "text/plain": [
       "GetDummies(dummy_columns=['serotype', 'from', 'resin'])"
      ]
     },
     "execution_count": 10,
     "metadata": {},
     "output_type": "execute_result"
    }
   ],
   "source": [
    "from sklearn.base import BaseEstimator, TransformerMixin\n",
    "\n",
    "X = pd.read_csv('~/../VVIRAL/data/AKTA_extracts/X.csv')\n",
    "Y = pd.read_csv('~/../VVIRAL/data/AKTA_extracts/Y.csv')\n",
    "\n",
    "\n",
    "class GetDummies(BaseEstimator, TransformerMixin):\n",
    "    def __init__(self, dummy_columns):\n",
    "        self.columns = None\n",
    "        self.dummy_columns = dummy_columns\n",
    "\n",
    "    def fit(self, X, y=None):\n",
    "        self.columns = pd.get_dummies(X, columns=self.dummy_columns).columns\n",
    "        return self\n",
    "\n",
    "    def transform(self, X):\n",
    "        X_new = pd.get_dummies(X, columns=self.dummy_columns)\n",
    "        # print(X_new)\n",
    "        X_new = X_new.loc[:, ~X_new.columns.duplicated()]\n",
    "        # print(X_new)\n",
    "        return X_new.reindex(columns=self.columns, fill_value=0)\n",
    "\n",
    "x_dums = ['serotype_AAV10',\n",
    "       'serotype_AAV2', 'serotype_AAV3', 'serotype_AAV5', 'serotype_AAV6',\n",
    "       'serotype_AAV8', 'serotype_AAV9', 'from_ELU', 'from_LFT', 'resin_AAVA1',\n",
    "       'resin_AAVA2', 'resin_AAVA3', 'resin_AAVA4', 'resin_AAVA5',\n",
    "       'resin_AAVA6', 'resin_AAVA7', 'resin_AAVA8', 'resin_AAVW1',\n",
    "       'resin_AAVW2', 'resin_AAVW3', 'resin_AAVW4', 'resin_AAVX', 'resin_AVB']\n",
    "x_nom = ['Pure', 'Elution pH', 'Wash pH', 'Equlibration pH',\n",
    "       'Elution Conductivity', 'Wash Conductivity',\n",
    "       'Equilibration Conductivity', 'System Flowrate Elution (CV/h)',\n",
    "       'Sample Flowrate Elution (CV/h)', 'Sample Volume']\n",
    "dums = pd.from_dummies(X[x_dums], sep='_')\n",
    "\n",
    "new_x = pd.concat([X[x_nom], dums], axis=1)\n",
    "dummies = GetDummies(dummy_columns=['serotype', 'from', 'resin'])\n",
    "dummies.fit(new_x)"
   ]
  },
  {
   "cell_type": "code",
   "execution_count": null,
   "metadata": {
    "colab": {
     "base_uri": "https://localhost:8080/"
    },
    "id": "MTVRkCFuA-yI",
    "outputId": "50f63804-1945-4c40-e5a0-7917343640f1"
   },
   "outputs": [
    {
     "data": {
      "text/plain": [
       "(206, 13)"
      ]
     },
     "execution_count": 11,
     "metadata": {},
     "output_type": "execute_result"
    }
   ],
   "source": [
    "new_x.shape"
   ]
  },
  {
   "cell_type": "code",
   "execution_count": null,
   "metadata": {
    "colab": {
     "base_uri": "https://localhost:8080/"
    },
    "id": "kovHs1Ij8WHt",
    "outputId": "710ce0bd-40d2-4af0-87c0-72327273c0d9"
   },
   "outputs": [
    {
     "name": "stdout",
     "output_type": "stream",
     "text": [
      "Normal Experiment\n",
      "MSE : 1.29\n",
      "MAE : 0.83\n",
      "RMSE : 1.13\n",
      "MAPE : 0.03\n",
      "R2 : 0.92\n",
      "Min : 16.0279410482975 Max : 33.06036674488299, Mean 28.022778472417397, STD: 3.297324545512073\n"
     ]
    },
    {
     "name": "stderr",
     "output_type": "stream",
     "text": [
      "/usr/local/lib/python3.11/dist-packages/sklearn/gaussian_process/kernels.py:452: ConvergenceWarning: The optimal value found for dimension 0 of parameter kernel__k1__k2__alpha is close to the specified upper bound 100000.0. Increasing the bound and calling fit again may find a better value.\n",
      "  warnings.warn(\n"
     ]
    }
   ],
   "source": [
    "x_train, x_test, y_train, y_test = train_test_split(X, Y['y_log'], test_size=0.2, random_state=42, shuffle=True)\n",
    "kernel = Sum(DotProduct(sigma_0=0.01, sigma_0_bounds=(1e-6, 1e6)), RationalQuadratic(alpha=0.01, length_scale=0.01,length_scale_bounds=(1e-6, 1e6))) + Matern(length_scale=0.1, nu=1.5,length_scale_bounds=(1e-6, 1e6))\n",
    "\n",
    "# kernel = RationalQuadratic(alpha=0.01, length_scale=0.01,length_scale_bounds=(1e-6, 1e6)) + Matern(length_scale=0.1, nu=1.5,length_scale_bounds=(1e-6, 1e6))\n",
    "kernel = Exponentiation(kernel, exponent=1)\n",
    "scaled_experiment = False\n",
    "\n",
    "scaler = MinMaxScaler()\n",
    "x_train_scaled = scaler.fit_transform(x_train.values)\n",
    "x_test_scaled = scaler.transform(x_test.values)\n",
    "y_train_scaled = scaler.fit_transform(y_train.values.reshape(-1, 1))\n",
    "y_test_scaled = scaler.transform(y_test.values.reshape(-1, 1))\n",
    "\n",
    "def get_metrics(y_test, prediction):\n",
    "    test_mse = round(metrics.mean_squared_error(y_test, prediction), 2)\n",
    "    test_mae = round(metrics.mean_absolute_error(y_test, prediction), 2)\n",
    "    test_rmse = round(metrics.root_mean_squared_error(y_test, prediction), 2)\n",
    "    test_mape = round(metrics.mean_absolute_percentage_error(y_test, prediction), 2)\n",
    "    test_r2 = round(metrics.r2_score(y_test, prediction), 2)\n",
    "    print(f'MSE : {round(metrics.mean_squared_error(y_test, prediction), 2)}')\n",
    "    print(f'MAE : {round(metrics.mean_absolute_error(y_test, prediction), 2)}')\n",
    "    print(f'RMSE : {round(metrics.root_mean_squared_error(y_test, prediction), 2)}')\n",
    "    print(f'MAPE : {round(metrics.mean_absolute_percentage_error(y_test, prediction), 2)}')\n",
    "    print(f'R2 : {round(metrics.r2_score(y_test, prediction), 2)}')\n",
    "    return {'mse': test_mse, 'mae': test_mae, 'rmse': test_rmse, 'mape': test_mape, 'r2': test_r2}\n",
    "\n",
    "if scaled_experiment:\n",
    "    print('Scaled Experiment')\n",
    "    gaussian_process = GaussianProcessRegressor(kernel=kernel, n_restarts_optimizer=50)\n",
    "    gaussian_process.fit(x_train_scaled, y_train_scaled)\n",
    "    mean_prediction, std_prediction = gaussian_process.predict(x_test_scaled, return_std=True)\n",
    "    print('Scaled Experiment - metrics with scaled')\n",
    "    test_metrics_scaled = get_metrics(y_test_scaled, mean_prediction)\n",
    "    print(f'Min : {np.min(y_train_scaled)} Max : {np.max(y_train_scaled)}, Mean {np.mean(y_train_scaled)}, STD: {np.std(y_train_scaled)}')\n",
    "    print(f'Min : {np.min(y_test_scaled)} Max : {np.max(y_test_scaled)}, Mean {np.mean(y_test_scaled)}, STD: {np.std(y_test_scaled)}')\n",
    "\n",
    "else:\n",
    "    print('Normal Experiment')\n",
    "    gaussian_process = GaussianProcessRegressor(kernel=kernel, n_restarts_optimizer=50)\n",
    "    gaussian_process.fit(x_train, y_train)\n",
    "    mean_prediction, std_prediction = gaussian_process.predict(x_test, return_std=True)\n",
    "    test_metrics_unscaled = get_metrics(y_test, mean_prediction)\n",
    "print(f'Min : {np.min(y_train)} Max : {np.max(y_train)}, Mean {np.mean(y_train)}, STD: {np.std(y_train)}')"
   ]
  },
  {
   "cell_type": "code",
   "execution_count": null,
   "metadata": {
    "colab": {
     "base_uri": "https://localhost:8080/"
    },
    "id": "WJvDdKcV9K7C",
    "outputId": "3edbc496-2664-400d-e57b-c761ca14c349"
   },
   "outputs": [
    {
     "data": {
      "text/plain": [
       "(164, 33)"
      ]
     },
     "execution_count": 13,
     "metadata": {},
     "output_type": "execute_result"
    }
   ],
   "source": [
    "x_train.shape"
   ]
  },
  {
   "cell_type": "code",
   "execution_count": null,
   "metadata": {
    "id": "LP_nzKy1_CJ5"
   },
   "outputs": [],
   "source": [
    "class Prob:\n",
    "    def __init__(self):\n",
    "        self.dim = 13\n",
    "        self.ref_point = torch.tensor([20.0], **tkwargs)\n",
    "        self.num_objectives = 1"
   ]
  },
  {
   "cell_type": "code",
   "execution_count": null,
   "metadata": {
    "id": "NPoARyLsnkqm"
   },
   "outputs": [],
   "source": [
    "DIMENSION = 13\n",
    "TestFunctionClass = Prob"
   ]
  },
  {
   "cell_type": "code",
   "execution_count": null,
   "metadata": {
    "id": "tlQ9cfsnP87E"
   },
   "outputs": [],
   "source": [
    "sim_cols = ['Pure', 'Equlibration pH', 'Elution Conductivity', 'Sample Volume', 'serotype', 'from', 'resin', 'Elution pH', 'Wash pH', 'Elution Conductivity', 'Wash Conductivity', 'Sample Flowrate Elution (CV/h)', 'System Flowrate Elution (CV/h)']\n",
    "global history\n",
    "history = pd.DataFrame(columns=sim_cols)"
   ]
  },
  {
   "cell_type": "code",
   "execution_count": null,
   "metadata": {
    "id": "IM7Y9WrdRZqe"
   },
   "outputs": [],
   "source": [
    "def change_history(temp_df, history):\n",
    "    # global history\n",
    "    history = pd.concat([history, temp_df])\n",
    "    return None"
   ]
  },
  {
   "cell_type": "code",
   "execution_count": null,
   "metadata": {
    "id": "I9tohEK8-i5s"
   },
   "outputs": [],
   "source": [
    "history = []\n",
    "def get_value(*x):\n",
    "    temp_df = pd.DataFrame(x).T\n",
    "    temp_df.columns = sim_cols\n",
    "    # pd.concat([history, temp_df])\n",
    "    history.append(x)\n",
    "    return gaussian_process.predict(dummies.transform(temp_df))"
   ]
  },
  {
   "cell_type": "code",
   "execution_count": null,
   "metadata": {
    "id": "TIe-F1V-pHYC"
   },
   "outputs": [],
   "source": [
    "from baybe.targets import NumericalTarget\n",
    "from baybe.objectives import SingleTargetObjective\n",
    "\n",
    "target = NumericalTarget(\n",
    "    name=\"Total Capsids\",\n",
    "    mode=\"MAX\",\n",
    ")\n",
    "objective = SingleTargetObjective(target=target)"
   ]
  },
  {
   "cell_type": "markdown",
   "metadata": {
    "id": "hrzN_jrjDMye"
   },
   "source": []
  },
  {
   "cell_type": "code",
   "execution_count": null,
   "metadata": {
    "id": "KIdGEkn8pymQ"
   },
   "outputs": [],
   "source": [
    "from baybe.parameters import (\n",
    "    CategoricalParameter,\n",
    "    NumericalDiscreteParameter,\n",
    "    NumericalContinuousParameter,\n",
    ")\n",
    "\n",
    "parameters = [\n",
    "    NumericalDiscreteParameter(\n",
    "        name=\"Pure\",\n",
    "        values=[0, 1],\n",
    "    ),\n",
    "    NumericalContinuousParameter(\n",
    "        name=\"Elution pH\",\n",
    "        bounds=(5, 9),\n",
    "    ),\n",
    "    NumericalContinuousParameter(\n",
    "        name=\"Wash pH\",\n",
    "        bounds=(5, 9),\n",
    "    ),\n",
    "    NumericalDiscreteParameter(\n",
    "        name=\"Equilibration pH\",\n",
    "        values=[7.0, 0],\n",
    "    ),\n",
    "    NumericalContinuousParameter(\n",
    "        name=\"Elution Conductivity\",\n",
    "        bounds=(1, 15),\n",
    "    ),\n",
    "    NumericalContinuousParameter(\n",
    "        name=\"Wash Conductivity\",\n",
    "        bounds=(1, 15),\n",
    "    ),\n",
    "    NumericalDiscreteParameter(\n",
    "        name=\"Equilibration Conductivity\",\n",
    "        values=[2.5, 0],\n",
    "    ),\n",
    "    NumericalContinuousParameter(\n",
    "        name=\"System Flowrate Elution (CV/h)\",\n",
    "        bounds=(19.05, 50),\n",
    "    ),\n",
    "    NumericalContinuousParameter(\n",
    "        name=\"Sample Flowrate Elution (CV/h)\",\n",
    "        bounds=(19.05, 50),\n",
    "    ),\n",
    "    NumericalDiscreteParameter(\n",
    "        name=\"Sample Volume\",\n",
    "        values=[5, 10, 15, 20, 25, 30],\n",
    "    ),\n",
    "    CategoricalParameter(\n",
    "        name=\"serotype\",\n",
    "        values=['AAV10','AAV2','AAV3','AAV5','AAV6','AAV8','AAV9'],\n",
    "        encoding=\"OHE\",  # one-hot encoding of categories\n",
    "    ),\n",
    "    CategoricalParameter(\n",
    "        name=\"from\",\n",
    "        values=['LFT', 'ELU'],\n",
    "        encoding=\"OHE\",  # one-hot encoding of categories\n",
    "    ),\n",
    "    CategoricalParameter(\n",
    "        name=\"resin\",\n",
    "        values=['AAVA1', 'AAVA2', 'AAVA3', 'AAVA4', 'AAVA5', 'AAVA6', 'AAVA7',\n",
    "       'AAVA8', 'AAVW1', 'AAVW2', 'AAVW3', 'AAVW4', 'AAVX', 'AVB'],\n",
    "        encoding=\"OHE\",  # one-hot encoding of categories\n",
    "    )\n",
    "\n",
    "]"
   ]
  },
  {
   "cell_type": "code",
   "execution_count": null,
   "metadata": {
    "id": "b1KIVGJ0Doic"
   },
   "outputs": [],
   "source": []
  },
  {
   "cell_type": "code",
   "execution_count": null,
   "metadata": {
    "id": "vKNsgdg8pzeY"
   },
   "outputs": [],
   "source": [
    "searchspace = SearchSpace.from_product(parameters=parameters)"
   ]
  },
  {
   "cell_type": "code",
   "execution_count": null,
   "metadata": {
    "id": "V3DrNJV7_fwX"
   },
   "outputs": [],
   "source": [
    "# find indices of parameter values that you dont want recommended\n",
    "dont_recommend_idxs_1 = searchspace.discrete.exp_rep['serotype'] != 'AAV2'\n",
    "\n",
    "# restrict recommendations via metadata\n",
    "searchspace.discrete.metadata.loc[dont_recommend_idxs_1, 'dont_recommend'] = True\n",
    "\n",
    "# find indices of parameter values that you dont want recommended\n",
    "dont_recommend_idxs_2 = searchspace.discrete.exp_rep['from'] != 'ELU'\n",
    "\n",
    "# restrict recommendations via metadata\n",
    "searchspace.discrete.metadata.loc[dont_recommend_idxs_2, 'dont_recommend'] = True\n",
    "\n",
    "# find indices of parameter values that you dont want recommended\n",
    "dont_recommend_idxs_3 = searchspace.discrete.exp_rep['resin'] != 'AAVA3'\n",
    "\n",
    "# restrict recommendations via metadata\n",
    "searchspace.discrete.metadata.loc[dont_recommend_idxs_3, 'dont_recommend'] = True\n",
    "\n",
    "# find indices of parameter values that you dont want recommended\n",
    "dont_recommend_idxs_4 = searchspace.discrete.exp_rep['Pure'] != 0\n",
    "\n",
    "# restrict recommendations via metadata\n",
    "searchspace.discrete.metadata.loc[dont_recommend_idxs_4, 'dont_recommend'] = True\n",
    "\n",
    "# find indices of parameter values that you dont want recommended\n",
    "dont_recommend_idxs_5 = searchspace.discrete.exp_rep['Equilibration pH'] != 7.0\n",
    "\n",
    "# restrict recommendations via metadata\n",
    "searchspace.discrete.metadata.loc[dont_recommend_idxs_5, 'dont_recommend'] = True\n",
    "\n",
    "# find indices of parameter values that you dont want recommended\n",
    "dont_recommend_idxs_6 = searchspace.discrete.exp_rep['Equilibration Conductivity'] != 2.5\n",
    "\n",
    "# restrict recommendations via metadata\n",
    "searchspace.discrete.metadata.loc[dont_recommend_idxs_6, 'dont_recommend'] = True"
   ]
  },
  {
   "cell_type": "code",
   "execution_count": null,
   "metadata": {
    "id": "w0n1zoCi_n0-"
   },
   "outputs": [],
   "source": [
    "from baybe.surrogates.gaussian_process.core import GaussianProcessSurrogate\n",
    "\n",
    "from baybe.kernels import RBFKernel, RQKernel, MaternKernel, AdditiveKernel\n",
    "from baybe.surrogates.gaussian_process.kernel_factory import PlainKernelFactory\n",
    "from baybe.surrogates.gaussian_process.core import GaussianProcessSurrogate\n",
    "from baybe.kernels.base import Kernel\n",
    "import torch\n",
    "\n",
    "# kernel = Sum(DotProduct(sigma_0=0.01, sigma_0_bounds=(1e-6, 1e6)), RationalQuadratic(alpha=0.01, length_scale=0.01,length_scale_bounds=(1e-6, 1e6))) + Matern(length_scale=0.1, nu=1.5,length_scale_bounds=(1e-6, 1e6))\n",
    "# kernel = Exponentiation(kernel, exponent=1)\n",
    "\n",
    "class DotProductKernel(Kernel):\n",
    "    def __init__(self, sigma=1.0):\n",
    "        super().__init__()\n",
    "        object.__setattr__(self, '_sigma', sigma)  # Use object.__setattr__ for immutability\n",
    "\n",
    "    @property\n",
    "    def sigma(self):\n",
    "        return self._sigma\n",
    "\n",
    "    def forward(self, X, Y):\n",
    "        return self.sigma**2 + torch.mm(X, Y.T)\n",
    "\n",
    "    def to_gpytorch(self, ard_num_dims=None, batch_shape=torch.Size([]), active_dims=None):\n",
    "        # Map your custom kernel to an existing gpytorch kernel\n",
    "        return gpytorch.kernels.LinearKernel(\n",
    "            num_dims=ard_num_dims,\n",
    "            batch_shape=batch_shape,\n",
    "            active_dims=active_dims,\n",
    "            variance_prior=None,\n",
    "            bias_prior=None,\n",
    "        )\n",
    "\n",
    "\n",
    "# Create an instance of the DotProduct kernel with sigma\n",
    "dot_product_kernel = DotProductKernel(sigma=0.01)\n",
    "\n",
    "rq_kernel = RQKernel(lengthscale_initial_value=0.01)\n",
    "matern_kernel = MaternKernel(lengthscale_initial_value=0.1, nu=1.5)\n",
    "\n",
    "\n",
    "kernel = AdditiveKernel((dot_product_kernel, rq_kernel, matern_kernel))\n",
    "# Wrap the RBF kernel in a PlainKernelFactory\n",
    "kernel_factory = PlainKernelFactory(kernel=kernel)\n",
    "\n",
    "# Initialize the GaussianProcessSurrogate with the RBF kernel\n",
    "gp_surrogate = GaussianProcessSurrogate(kernel_or_factory=kernel_factory)\n"
   ]
  },
  {
   "cell_type": "code",
   "execution_count": null,
   "metadata": {
    "colab": {
     "base_uri": "https://localhost:8080/"
    },
    "id": "Lv0D4Kfwp-rO",
    "outputId": "06cffdfe-fa1f-482d-fe8c-9ef824939770"
   },
   "outputs": [],
   "source": [
    "seq_greedy_EI_campaign = Campaign(\n",
    "    searchspace=searchspace,\n",
    "    objective=objective,\n",
    "    recommender = TwoPhaseMetaRecommender(\n",
    "        initial_recommender=RandomRecommender(),\n",
    "        recommender=SequentialGreedyRecommender(acquisition_function=qExpectedImprovement(), surrogate_model=gp_surrogate)\n",
    "        )\n",
    ")\n",
    "\n",
    "seq_greedy_logEI_campaign = Campaign(\n",
    "\n",
    "    searchspace=searchspace,\n",
    "    objective=objective,\n",
    "    recommender = TwoPhaseMetaRecommender(\n",
    "        initial_recommender=RandomRecommender(),\n",
    "        recommender=SequentialGreedyRecommender(acquisition_function=qLogExpectedImprovement(), surrogate_model=gp_surrogate)\n",
    "        )\n",
    "\n",
    ")\n",
    "\n",
    "seq_greedy_PI_campaign = Campaign(\n",
    "    searchspace=searchspace,\n",
    "    objective=objective,\n",
    "    recommender = TwoPhaseMetaRecommender(\n",
    "        initial_recommender=RandomRecommender(),\n",
    "        recommender=SequentialGreedyRecommender(acquisition_function=qProbabilityOfImprovement(), surrogate_model=gp_surrogate)\n",
    "        )\n",
    ")\n",
    "\n",
    "seq_greedy_UCB_campaign = Campaign(\n",
    "    searchspace=searchspace,\n",
    "    objective=objective,\n",
    "    recommender = TwoPhaseMetaRecommender(\n",
    "        initial_recommender=RandomRecommender(),\n",
    "        recommender=SequentialGreedyRecommender(acquisition_function=qUpperConfidenceBound(), surrogate_model=gp_surrogate)\n",
    "        )\n",
    ")\n",
    "\n",
    "random_campaign = Campaign(\n",
    "    searchspace=searchspace,\n",
    "    recommender=RandomRecommender(),\n",
    "    objective=objective,\n",
    ")\n"
   ]
  },
  {
   "cell_type": "code",
   "execution_count": null,
   "metadata": {
    "colab": {
     "base_uri": "https://localhost:8080/"
    },
    "id": "fYwYBR0BqARZ",
    "outputId": "48d316d7-f65c-4abe-d6a4-b6cff16d3ea6"
   },
   "outputs": [],
   "source": [
    "scenarios = {\n",
    "    \"Sequential greedy EI\": seq_greedy_EI_campaign,\n",
    "    \"Random\": random_campaign,\n",
    "    \"Sequential greedy logEI\": seq_greedy_logEI_campaign,\n",
    "    \"Sequential greedy PI\": seq_greedy_PI_campaign,\n",
    "     \"Sequential greedy UCB\": seq_greedy_UCB_campaign,\n",
    "}\n",
    "results = simulate_scenarios(\n",
    "    scenarios,\n",
    "    # WRAPPED_FUNCTION,\n",
    "    get_value,\n",
    "    batch_size=BATCH_SIZE,\n",
    "    n_doe_iterations=N_DOE_ITERATIONS,\n",
    "    n_mc_iterations=N_MC_ITERATIONS,\n",
    ")"
   ]
  },
  {
   "cell_type": "code",
   "execution_count": null,
   "metadata": {
    "colab": {
     "base_uri": "https://localhost:8080/"
    },
    "id": "fgLorx4wqXvb",
    "outputId": "e5bb9c28-e1f9-492e-fb11-28ec0c698d89"
   },
   "outputs": [
    {
     "name": "stderr",
     "output_type": "stream",
     "text": [
      "/usr/local/lib/python3.11/dist-packages/baybe/utils/plotting.py:60: UserWarning: No themes for plotting found. A fallback theme is used.\n",
      "  warnings.warn(\"No themes for plotting found. A fallback theme is used.\")\n"
     ]
    }
   ],
   "source": [
    "%matplotlib inline\n",
    "path = Path(sys.path[0])\n",
    "ax = sns.lineplot(\n",
    "    data=results,\n",
    "    marker=\"o\",\n",
    "    markersize=10,\n",
    "    x=\"Num_Experiments\",\n",
    "    y=\"Total Capsids_CumBest\",\n",
    "    hue=\"Scenario\",\n",
    ")\n",
    "\n",
    "ax.set_ylabel(r'$log_{e}{TC}$')\n",
    "ax.set_xlabel(r'Number of Experiments')\n",
    "\n",
    "create_example_plots(\n",
    "    ax=ax,\n",
    "    path=path,\n",
    "    base_name=\"botorch_analytical\",\n",
    ")\n"
   ]
  },
  {
   "cell_type": "code",
   "execution_count": null,
   "metadata": {
    "id": "TSexW0cR1CFz"
   },
   "outputs": [],
   "source": [
    "import pickle\n",
    "\n",
    "with open('ax.pkl', 'wb') as f:\n",
    "    pickle.dump(ax, f)"
   ]
  },
  {
   "cell_type": "code",
   "execution_count": null,
   "metadata": {
    "id": "3usDOdQPt5_8"
   },
   "outputs": [],
   "source": [
    "results.to_csv('results_custom_surrogate.csv', index=False)"
   ]
  },
  {
   "cell_type": "code",
   "execution_count": null,
   "metadata": {
    "id": "u45GULqlN8dF"
   },
   "outputs": [],
   "source": [
    "history = pd.DataFrame(history, columns=sim_cols)\n",
    "history.to_csv('history_custom_surrogate.csv', index=False)"
   ]
  }
 ],
 "metadata": {
  "accelerator": "GPU",
  "colab": {
   "gpuType": "T4",
   "provenance": []
  },
  "kernelspec": {
   "display_name": "Python 3",
   "name": "python3"
  },
  "language_info": {
   "name": "python"
  }
 },
 "nbformat": 4,
 "nbformat_minor": 0
}
